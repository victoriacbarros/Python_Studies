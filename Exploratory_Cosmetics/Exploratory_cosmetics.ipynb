{
 "cells": [
  {
   "cell_type": "markdown",
   "id": "755c385b",
   "metadata": {},
   "source": [
    "## Data analysis using Python: Understanding cosmetics sales"
   ]
  },
  {
   "cell_type": "markdown",
   "id": "dcf7a777",
   "metadata": {},
   "source": [
    "The wholesaler Beauty Blend, after a market analysis decided to buy the distributor Très Belle, a small size company that had been having management problems and was put on sale to avoid its bankruptcy and the owners not to have greater losses.\n",
    "\n",
    "The first quarter of 2022 was Très Belle's last period on the market. During April there was a restructuring of the teams, where Beauty Blend opted to keep the commercial team and decided that it will return with the sales of products previously marketed by Très Belle from the third quarter of the year.\n",
    "\n",
    "Before modeling the business strategy for the third and fourth quarter of 2022, it will be necessary to observe the behavior of the old company, especially look products and prices avaliable in our sample:"
   ]
  },
  {
   "cell_type": "code",
   "execution_count": 2,
   "id": "820f7318",
   "metadata": {},
   "outputs": [],
   "source": [
    "#bringing packages:\n",
    "import numpy as np\n",
    "import pandas as pd\n",
    "import matplotlib.pyplot as plt\n",
    "import seaborn as sns\n",
    "plt.style.use('fivethirtyeight')\n",
    "import warnings\n",
    "warnings.filterwarnings('ignore')\n",
    "%matplotlib inline"
   ]
  },
  {
   "cell_type": "code",
   "execution_count": 4,
   "id": "b755d85c",
   "metadata": {},
   "outputs": [],
   "source": [
    "data = pd.read_excel('cosmetics.xlsx')"
   ]
  },
  {
   "cell_type": "markdown",
   "id": "42a3c743",
   "metadata": {},
   "source": [
    "### Importing data:"
   ]
  },
  {
   "cell_type": "code",
   "execution_count": 21,
   "id": "f0da9021",
   "metadata": {},
   "outputs": [
    {
     "data": {
      "text/html": [
       "<div>\n",
       "<style scoped>\n",
       "    .dataframe tbody tr th:only-of-type {\n",
       "        vertical-align: middle;\n",
       "    }\n",
       "\n",
       "    .dataframe tbody tr th {\n",
       "        vertical-align: top;\n",
       "    }\n",
       "\n",
       "    .dataframe thead th {\n",
       "        text-align: right;\n",
       "    }\n",
       "</style>\n",
       "<table border=\"1\" class=\"dataframe\">\n",
       "  <thead>\n",
       "    <tr style=\"text-align: right;\">\n",
       "      <th></th>\n",
       "      <th>id</th>\n",
       "      <th>Product</th>\n",
       "      <th>Manufacturer</th>\n",
       "      <th>value_price</th>\n",
       "      <th>qtd</th>\n",
       "      <th>sales_person</th>\n",
       "      <th>country</th>\n",
       "      <th>Packaging</th>\n",
       "      <th>Month</th>\n",
       "      <th>Buyer</th>\n",
       "      <th>Consumer_target</th>\n",
       "    </tr>\n",
       "  </thead>\n",
       "  <tbody>\n",
       "    <tr>\n",
       "      <th>0</th>\n",
       "      <td>1</td>\n",
       "      <td>Mango Lipbalm</td>\n",
       "      <td>Nina Beauty</td>\n",
       "      <td>76.49</td>\n",
       "      <td>771</td>\n",
       "      <td>Felizio Barlass</td>\n",
       "      <td>United Kingdom</td>\n",
       "      <td>Deluxe</td>\n",
       "      <td>Jan</td>\n",
       "      <td>Stunning girl S.A</td>\n",
       "      <td>Girls</td>\n",
       "    </tr>\n",
       "    <tr>\n",
       "      <th>1</th>\n",
       "      <td>2</td>\n",
       "      <td>Anti Aging BBCream</td>\n",
       "      <td>Breeze way</td>\n",
       "      <td>15.92</td>\n",
       "      <td>360</td>\n",
       "      <td>Theresa Faraday</td>\n",
       "      <td>Germany</td>\n",
       "      <td>Normal</td>\n",
       "      <td>Feb</td>\n",
       "      <td>Cool Woman S.A</td>\n",
       "      <td>Women 40+</td>\n",
       "    </tr>\n",
       "    <tr>\n",
       "      <th>2</th>\n",
       "      <td>3</td>\n",
       "      <td>Royal handcream</td>\n",
       "      <td>Haus of Bella</td>\n",
       "      <td>85.29</td>\n",
       "      <td>699</td>\n",
       "      <td>Raquel O'Dunneen</td>\n",
       "      <td>Netherlands</td>\n",
       "      <td>Deluxe</td>\n",
       "      <td>Jan</td>\n",
       "      <td>Female Brands S.A</td>\n",
       "      <td>Women 40+</td>\n",
       "    </tr>\n",
       "    <tr>\n",
       "      <th>3</th>\n",
       "      <td>4</td>\n",
       "      <td>Doll Age-Defying Liquid Foundation</td>\n",
       "      <td>Haus of Bella</td>\n",
       "      <td>21.58</td>\n",
       "      <td>125</td>\n",
       "      <td>Felizio Barlass</td>\n",
       "      <td>France</td>\n",
       "      <td>Normal</td>\n",
       "      <td>Jan</td>\n",
       "      <td>Cool Woman S.A</td>\n",
       "      <td>Women 40+</td>\n",
       "    </tr>\n",
       "    <tr>\n",
       "      <th>4</th>\n",
       "      <td>5</td>\n",
       "      <td>Topcare Daily Facial</td>\n",
       "      <td>Breeze way</td>\n",
       "      <td>97.56</td>\n",
       "      <td>881</td>\n",
       "      <td>Theresa Faraday</td>\n",
       "      <td>Sweden</td>\n",
       "      <td>Normal</td>\n",
       "      <td>Jan</td>\n",
       "      <td>Cool Woman S.A</td>\n",
       "      <td>Young Women</td>\n",
       "    </tr>\n",
       "  </tbody>\n",
       "</table>\n",
       "</div>"
      ],
      "text/plain": [
       "   id                             Product   Manufacturer  value_price  qtd  \\\n",
       "0   1                       Mango Lipbalm    Nina Beauty        76.49  771   \n",
       "1   2                  Anti Aging BBCream     Breeze way        15.92  360   \n",
       "2   3                     Royal handcream  Haus of Bella        85.29  699   \n",
       "3   4  Doll Age-Defying Liquid Foundation  Haus of Bella        21.58  125   \n",
       "4   5                Topcare Daily Facial     Breeze way        97.56  881   \n",
       "\n",
       "       sales_person         country Packaging Month              Buyer  \\\n",
       "0   Felizio Barlass  United Kingdom    Deluxe   Jan  Stunning girl S.A   \n",
       "1   Theresa Faraday         Germany    Normal   Feb     Cool Woman S.A   \n",
       "2  Raquel O'Dunneen     Netherlands    Deluxe   Jan  Female Brands S.A   \n",
       "3   Felizio Barlass          France    Normal   Jan     Cool Woman S.A   \n",
       "4   Theresa Faraday          Sweden    Normal   Jan     Cool Woman S.A   \n",
       "\n",
       "  Consumer_target  \n",
       "0           Girls  \n",
       "1       Women 40+  \n",
       "2       Women 40+  \n",
       "3       Women 40+  \n",
       "4     Young Women  "
      ]
     },
     "execution_count": 21,
     "metadata": {},
     "output_type": "execute_result"
    }
   ],
   "source": [
    "data.head()"
   ]
  },
  {
   "cell_type": "markdown",
   "id": "037e6543",
   "metadata": {},
   "source": [
    "### Observing data characteristics"
   ]
  },
  {
   "cell_type": "code",
   "execution_count": 22,
   "id": "09ce3eda",
   "metadata": {},
   "outputs": [
    {
     "name": "stdout",
     "output_type": "stream",
     "text": [
      "<class 'pandas.core.frame.DataFrame'>\n",
      "RangeIndex: 2000 entries, 0 to 1999\n",
      "Data columns (total 11 columns):\n",
      " #   Column           Non-Null Count  Dtype  \n",
      "---  ------           --------------  -----  \n",
      " 0   id               2000 non-null   int64  \n",
      " 1   Product          2000 non-null   object \n",
      " 2   Manufacturer     2000 non-null   object \n",
      " 3   value_price      2000 non-null   float64\n",
      " 4   qtd              2000 non-null   int64  \n",
      " 5   sales_person     2000 non-null   object \n",
      " 6   country          2000 non-null   object \n",
      " 7   Packaging        2000 non-null   object \n",
      " 8   Month            2000 non-null   object \n",
      " 9   Buyer            2000 non-null   object \n",
      " 10  Consumer_target  2000 non-null   object \n",
      "dtypes: float64(1), int64(2), object(8)\n",
      "memory usage: 172.0+ KB\n"
     ]
    }
   ],
   "source": [
    "data.info()"
   ]
  },
  {
   "cell_type": "code",
   "execution_count": 23,
   "id": "8ea6c36c",
   "metadata": {},
   "outputs": [
    {
     "data": {
      "text/plain": [
       "id                 0\n",
       "Product            0\n",
       "Manufacturer       0\n",
       "value_price        0\n",
       "qtd                0\n",
       "sales_person       0\n",
       "country            0\n",
       "Packaging          0\n",
       "Month              0\n",
       "Buyer              0\n",
       "Consumer_target    0\n",
       "dtype: int64"
      ]
     },
     "execution_count": 23,
     "metadata": {},
     "output_type": "execute_result"
    }
   ],
   "source": [
    "#checking if there's any null\n",
    "data.isnull().sum()"
   ]
  },
  {
   "cell_type": "code",
   "execution_count": 24,
   "id": "699c8639",
   "metadata": {},
   "outputs": [
    {
     "data": {
      "text/plain": [
       "object     8\n",
       "int64      2\n",
       "float64    1\n",
       "dtype: int64"
      ]
     },
     "execution_count": 24,
     "metadata": {},
     "output_type": "execute_result"
    }
   ],
   "source": [
    "data.dtypes.value_counts()"
   ]
  },
  {
   "cell_type": "markdown",
   "id": "d86ac8cc",
   "metadata": {},
   "source": [
    "### Exploratory Analysis"
   ]
  },
  {
   "cell_type": "markdown",
   "id": "8613f887",
   "metadata": {},
   "source": [
    "Let's check descriptive statistics of the variables:"
   ]
  },
  {
   "cell_type": "code",
   "execution_count": 25,
   "id": "5f0eb457",
   "metadata": {},
   "outputs": [
    {
     "data": {
      "text/html": [
       "<div>\n",
       "<style scoped>\n",
       "    .dataframe tbody tr th:only-of-type {\n",
       "        vertical-align: middle;\n",
       "    }\n",
       "\n",
       "    .dataframe tbody tr th {\n",
       "        vertical-align: top;\n",
       "    }\n",
       "\n",
       "    .dataframe thead th {\n",
       "        text-align: right;\n",
       "    }\n",
       "</style>\n",
       "<table border=\"1\" class=\"dataframe\">\n",
       "  <thead>\n",
       "    <tr style=\"text-align: right;\">\n",
       "      <th></th>\n",
       "      <th>id</th>\n",
       "      <th>value_price</th>\n",
       "      <th>qtd</th>\n",
       "    </tr>\n",
       "  </thead>\n",
       "  <tbody>\n",
       "    <tr>\n",
       "      <th>count</th>\n",
       "      <td>2000.000000</td>\n",
       "      <td>2000.000000</td>\n",
       "      <td>2000.000000</td>\n",
       "    </tr>\n",
       "    <tr>\n",
       "      <th>mean</th>\n",
       "      <td>1000.500000</td>\n",
       "      <td>53.290665</td>\n",
       "      <td>500.955500</td>\n",
       "    </tr>\n",
       "    <tr>\n",
       "      <th>std</th>\n",
       "      <td>577.494589</td>\n",
       "      <td>24.187996</td>\n",
       "      <td>217.445561</td>\n",
       "    </tr>\n",
       "    <tr>\n",
       "      <th>min</th>\n",
       "      <td>1.000000</td>\n",
       "      <td>6.700000</td>\n",
       "      <td>72.000000</td>\n",
       "    </tr>\n",
       "    <tr>\n",
       "      <th>25%</th>\n",
       "      <td>500.750000</td>\n",
       "      <td>35.637500</td>\n",
       "      <td>345.000000</td>\n",
       "    </tr>\n",
       "    <tr>\n",
       "      <th>50%</th>\n",
       "      <td>1000.500000</td>\n",
       "      <td>50.285000</td>\n",
       "      <td>467.000000</td>\n",
       "    </tr>\n",
       "    <tr>\n",
       "      <th>75%</th>\n",
       "      <td>1500.250000</td>\n",
       "      <td>68.870000</td>\n",
       "      <td>628.000000</td>\n",
       "    </tr>\n",
       "    <tr>\n",
       "      <th>max</th>\n",
       "      <td>2000.000000</td>\n",
       "      <td>152.900000</td>\n",
       "      <td>1611.000000</td>\n",
       "    </tr>\n",
       "  </tbody>\n",
       "</table>\n",
       "</div>"
      ],
      "text/plain": [
       "                id  value_price          qtd\n",
       "count  2000.000000  2000.000000  2000.000000\n",
       "mean   1000.500000    53.290665   500.955500\n",
       "std     577.494589    24.187996   217.445561\n",
       "min       1.000000     6.700000    72.000000\n",
       "25%     500.750000    35.637500   345.000000\n",
       "50%    1000.500000    50.285000   467.000000\n",
       "75%    1500.250000    68.870000   628.000000\n",
       "max    2000.000000   152.900000  1611.000000"
      ]
     },
     "execution_count": 25,
     "metadata": {},
     "output_type": "execute_result"
    }
   ],
   "source": [
    "data.describe()"
   ]
  },
  {
   "cell_type": "code",
   "execution_count": 26,
   "id": "cbf125ee",
   "metadata": {},
   "outputs": [
    {
     "data": {
      "text/plain": [
       "Suntannnig Bronzer FPS8               354\n",
       "Topcare Daily Facial                  301\n",
       "Miraculous Lip Tint                   295\n",
       "Royal handcream                       275\n",
       "Anti Aging BBCream                    267\n",
       "Mango Lipbalm                         259\n",
       "Doll Age-Defying Liquid Foundation    249\n",
       "Name: Product, dtype: int64"
      ]
     },
     "execution_count": 26,
     "metadata": {},
     "output_type": "execute_result"
    }
   ],
   "source": [
    "data['Product'].value_counts()"
   ]
  },
  {
   "cell_type": "markdown",
   "id": "3941cbc8",
   "metadata": {},
   "source": [
    "The product with the highest output (number of successful proposals) is Suntannnig Bronzer FPS8, something curious given that in Europe the first quarter is marked by low temperatures "
   ]
  },
  {
   "cell_type": "code",
   "execution_count": 27,
   "id": "dd35361a",
   "metadata": {},
   "outputs": [
    {
     "data": {
      "text/plain": [
       "Breeze way       922\n",
       "Nina Beauty      554\n",
       "Haus of Bella    524\n",
       "Name: Manufacturer, dtype: int64"
      ]
     },
     "execution_count": 27,
     "metadata": {},
     "output_type": "execute_result"
    }
   ],
   "source": [
    "data['Manufacturer'].value_counts()"
   ]
  },
  {
   "cell_type": "code",
   "execution_count": 28,
   "id": "bd52bee2",
   "metadata": {},
   "outputs": [
    {
     "data": {
      "text/plain": [
       "Theresa Faraday     963\n",
       "Felizio Barlass     519\n",
       "Raquel O'Dunneen    518\n",
       "Name: sales_person, dtype: int64"
      ]
     },
     "execution_count": 28,
     "metadata": {},
     "output_type": "execute_result"
    }
   ],
   "source": [
    "data['sales_person'].value_counts()"
   ]
  },
  {
   "cell_type": "code",
   "execution_count": 29,
   "id": "4c917f57",
   "metadata": {},
   "outputs": [
    {
     "data": {
      "text/plain": [
       "United Kingdom    417\n",
       "Germany           417\n",
       "Netherlands       417\n",
       "France            416\n",
       "Sweden            333\n",
       "Name: country, dtype: int64"
      ]
     },
     "execution_count": 29,
     "metadata": {},
     "output_type": "execute_result"
    }
   ],
   "source": [
    "data['country'].value_counts()"
   ]
  },
  {
   "cell_type": "code",
   "execution_count": 30,
   "id": "7a272b46",
   "metadata": {},
   "outputs": [
    {
     "data": {
      "text/plain": [
       "Normal    1158\n",
       "Deluxe     842\n",
       "Name: Packaging, dtype: int64"
      ]
     },
     "execution_count": 30,
     "metadata": {},
     "output_type": "execute_result"
    }
   ],
   "source": [
    "data['Packaging'].value_counts()"
   ]
  },
  {
   "cell_type": "code",
   "execution_count": 31,
   "id": "6e1292f1",
   "metadata": {},
   "outputs": [
    {
     "data": {
      "text/plain": [
       "Jan    690\n",
       "Mar    674\n",
       "Feb    636\n",
       "Name: Month, dtype: int64"
      ]
     },
     "execution_count": 31,
     "metadata": {},
     "output_type": "execute_result"
    }
   ],
   "source": [
    "data['Month'].value_counts()"
   ]
  },
  {
   "cell_type": "code",
   "execution_count": 32,
   "id": "14fcf2a6",
   "metadata": {},
   "outputs": [
    {
     "data": {
      "text/plain": [
       "Cool Woman S.A       805\n",
       "Female Brands S.A    610\n",
       "Stunning girl S.A    585\n",
       "Name: Buyer, dtype: int64"
      ]
     },
     "execution_count": 32,
     "metadata": {},
     "output_type": "execute_result"
    }
   ],
   "source": [
    "data['Buyer'].value_counts()"
   ]
  },
  {
   "cell_type": "code",
   "execution_count": 33,
   "id": "fc6bcf16",
   "metadata": {},
   "outputs": [
    {
     "data": {
      "text/plain": [
       "Young Women    950\n",
       "Women 40+      791\n",
       "Girls          259\n",
       "Name: Consumer_target, dtype: int64"
      ]
     },
     "execution_count": 33,
     "metadata": {},
     "output_type": "execute_result"
    }
   ],
   "source": [
    "data['Consumer_target'].value_counts()"
   ]
  },
  {
   "cell_type": "markdown",
   "id": "2e66cf73",
   "metadata": {},
   "source": [
    "Until now, we could check the relationship between the main product offered to the buyers (Suntannnig Bronzer FPS8), with the main public target by quantity (Young Girls).\n",
    "\n",
    "Another important observation is to verify what products each manufacturer does:"
   ]
  },
  {
   "cell_type": "code",
   "execution_count": 34,
   "id": "cd83c206",
   "metadata": {},
   "outputs": [
    {
     "data": {
      "text/plain": [
       "Manufacturer   Product                           \n",
       "Breeze way     Suntannnig Bronzer FPS8               354\n",
       "               Topcare Daily Facial                  301\n",
       "               Anti Aging BBCream                    267\n",
       "Haus of Bella  Royal handcream                       275\n",
       "               Doll Age-Defying Liquid Foundation    249\n",
       "Nina Beauty    Miraculous Lip Tint                   295\n",
       "               Mango Lipbalm                         259\n",
       "Name: Product, dtype: int64"
      ]
     },
     "execution_count": 34,
     "metadata": {},
     "output_type": "execute_result"
    }
   ],
   "source": [
    "data.groupby('Manufacturer')['Product'].value_counts()"
   ]
  },
  {
   "cell_type": "code",
   "execution_count": 35,
   "id": "535170bb",
   "metadata": {},
   "outputs": [
    {
     "data": {
      "text/plain": [
       "Buyer              Product                           \n",
       "Cool Woman S.A     Suntannnig Bronzer FPS8               134\n",
       "                   Topcare Daily Facial                  126\n",
       "                   Mango Lipbalm                         120\n",
       "                   Miraculous Lip Tint                   119\n",
       "                   Anti Aging BBCream                    106\n",
       "                   Doll Age-Defying Liquid Foundation    102\n",
       "                   Royal handcream                        98\n",
       "Female Brands S.A  Suntannnig Bronzer FPS8               123\n",
       "                   Royal handcream                        92\n",
       "                   Miraculous Lip Tint                    91\n",
       "                   Doll Age-Defying Liquid Foundation     82\n",
       "                   Anti Aging BBCream                     81\n",
       "                   Topcare Daily Facial                   79\n",
       "                   Mango Lipbalm                          62\n",
       "Stunning girl S.A  Suntannnig Bronzer FPS8                97\n",
       "                   Topcare Daily Facial                   96\n",
       "                   Miraculous Lip Tint                    85\n",
       "                   Royal handcream                        85\n",
       "                   Anti Aging BBCream                     80\n",
       "                   Mango Lipbalm                          77\n",
       "                   Doll Age-Defying Liquid Foundation     65\n",
       "Name: Product, dtype: int64"
      ]
     },
     "execution_count": 35,
     "metadata": {},
     "output_type": "execute_result"
    }
   ],
   "source": [
    "data.groupby('Buyer')['Product'].value_counts()"
   ]
  },
  {
   "cell_type": "markdown",
   "id": "d8cdf81a",
   "metadata": {},
   "source": [
    "### Analyzing quantitative variables"
   ]
  },
  {
   "cell_type": "markdown",
   "id": "74c5f80b",
   "metadata": {},
   "source": [
    "An interesting thing is to observe the maximun and minimum values from each quantitvative variable"
   ]
  },
  {
   "cell_type": "code",
   "execution_count": 36,
   "id": "f3f36ef6",
   "metadata": {},
   "outputs": [
    {
     "data": {
      "text/html": [
       "<div>\n",
       "<style scoped>\n",
       "    .dataframe tbody tr th:only-of-type {\n",
       "        vertical-align: middle;\n",
       "    }\n",
       "\n",
       "    .dataframe tbody tr th {\n",
       "        vertical-align: top;\n",
       "    }\n",
       "\n",
       "    .dataframe thead th {\n",
       "        text-align: right;\n",
       "    }\n",
       "</style>\n",
       "<table border=\"1\" class=\"dataframe\">\n",
       "  <thead>\n",
       "    <tr style=\"text-align: right;\">\n",
       "      <th></th>\n",
       "      <th>id</th>\n",
       "      <th>Product</th>\n",
       "      <th>Manufacturer</th>\n",
       "      <th>value_price</th>\n",
       "      <th>qtd</th>\n",
       "      <th>sales_person</th>\n",
       "      <th>country</th>\n",
       "      <th>Packaging</th>\n",
       "      <th>Month</th>\n",
       "      <th>Buyer</th>\n",
       "      <th>Consumer_target</th>\n",
       "    </tr>\n",
       "  </thead>\n",
       "  <tbody>\n",
       "    <tr>\n",
       "      <th>218</th>\n",
       "      <td>219</td>\n",
       "      <td>Mango Lipbalm</td>\n",
       "      <td>Nina Beauty</td>\n",
       "      <td>152.9</td>\n",
       "      <td>1611</td>\n",
       "      <td>Raquel O'Dunneen</td>\n",
       "      <td>Netherlands</td>\n",
       "      <td>Deluxe</td>\n",
       "      <td>Mar</td>\n",
       "      <td>Stunning girl S.A</td>\n",
       "      <td>Girls</td>\n",
       "    </tr>\n",
       "  </tbody>\n",
       "</table>\n",
       "</div>"
      ],
      "text/plain": [
       "      id        Product Manufacturer  value_price   qtd      sales_person  \\\n",
       "218  219  Mango Lipbalm  Nina Beauty        152.9  1611  Raquel O'Dunneen   \n",
       "\n",
       "         country Packaging Month              Buyer Consumer_target  \n",
       "218  Netherlands    Deluxe   Mar  Stunning girl S.A           Girls  "
      ]
     },
     "execution_count": 36,
     "metadata": {},
     "output_type": "execute_result"
    }
   ],
   "source": [
    "data.query('value_price == 152.900000')"
   ]
  },
  {
   "cell_type": "code",
   "execution_count": 37,
   "id": "d2ca1154",
   "metadata": {},
   "outputs": [
    {
     "data": {
      "text/html": [
       "<div>\n",
       "<style scoped>\n",
       "    .dataframe tbody tr th:only-of-type {\n",
       "        vertical-align: middle;\n",
       "    }\n",
       "\n",
       "    .dataframe tbody tr th {\n",
       "        vertical-align: top;\n",
       "    }\n",
       "\n",
       "    .dataframe thead th {\n",
       "        text-align: right;\n",
       "    }\n",
       "</style>\n",
       "<table border=\"1\" class=\"dataframe\">\n",
       "  <thead>\n",
       "    <tr style=\"text-align: right;\">\n",
       "      <th></th>\n",
       "      <th>id</th>\n",
       "      <th>Product</th>\n",
       "      <th>Manufacturer</th>\n",
       "      <th>value_price</th>\n",
       "      <th>qtd</th>\n",
       "      <th>sales_person</th>\n",
       "      <th>country</th>\n",
       "      <th>Packaging</th>\n",
       "      <th>Month</th>\n",
       "      <th>Buyer</th>\n",
       "      <th>Consumer_target</th>\n",
       "    </tr>\n",
       "  </thead>\n",
       "  <tbody>\n",
       "    <tr>\n",
       "      <th>904</th>\n",
       "      <td>905</td>\n",
       "      <td>Mango Lipbalm</td>\n",
       "      <td>Nina Beauty</td>\n",
       "      <td>6.7</td>\n",
       "      <td>195</td>\n",
       "      <td>Raquel O'Dunneen</td>\n",
       "      <td>Germany</td>\n",
       "      <td>Normal</td>\n",
       "      <td>Jan</td>\n",
       "      <td>Cool Woman S.A</td>\n",
       "      <td>Girls</td>\n",
       "    </tr>\n",
       "  </tbody>\n",
       "</table>\n",
       "</div>"
      ],
      "text/plain": [
       "      id        Product Manufacturer  value_price  qtd      sales_person  \\\n",
       "904  905  Mango Lipbalm  Nina Beauty          6.7  195  Raquel O'Dunneen   \n",
       "\n",
       "     country Packaging Month           Buyer Consumer_target  \n",
       "904  Germany    Normal   Jan  Cool Woman S.A           Girls  "
      ]
     },
     "execution_count": 37,
     "metadata": {},
     "output_type": "execute_result"
    }
   ],
   "source": [
    "data.query('value_price == 6.700000')"
   ]
  },
  {
   "cell_type": "markdown",
   "id": "95d8dba6",
   "metadata": {},
   "source": [
    "Here we have a point of attention: both the maximum and minimum values refer to the same product, indicating some systemic error in pricing or some not very common sales strategy, requiring an analysis of marketing strategies or if, in the case, it is about some campaign"
   ]
  },
  {
   "cell_type": "code",
   "execution_count": 38,
   "id": "3f02046f",
   "metadata": {
    "scrolled": true
   },
   "outputs": [
    {
     "data": {
      "text/html": [
       "<div>\n",
       "<style scoped>\n",
       "    .dataframe tbody tr th:only-of-type {\n",
       "        vertical-align: middle;\n",
       "    }\n",
       "\n",
       "    .dataframe tbody tr th {\n",
       "        vertical-align: top;\n",
       "    }\n",
       "\n",
       "    .dataframe thead th {\n",
       "        text-align: right;\n",
       "    }\n",
       "</style>\n",
       "<table border=\"1\" class=\"dataframe\">\n",
       "  <thead>\n",
       "    <tr style=\"text-align: right;\">\n",
       "      <th></th>\n",
       "      <th>id</th>\n",
       "      <th>Product</th>\n",
       "      <th>Manufacturer</th>\n",
       "      <th>value_price</th>\n",
       "      <th>qtd</th>\n",
       "      <th>sales_person</th>\n",
       "      <th>country</th>\n",
       "      <th>Packaging</th>\n",
       "      <th>Month</th>\n",
       "      <th>Buyer</th>\n",
       "      <th>Consumer_target</th>\n",
       "    </tr>\n",
       "  </thead>\n",
       "  <tbody>\n",
       "    <tr>\n",
       "      <th>218</th>\n",
       "      <td>219</td>\n",
       "      <td>Mango Lipbalm</td>\n",
       "      <td>Nina Beauty</td>\n",
       "      <td>152.90</td>\n",
       "      <td>1611</td>\n",
       "      <td>Raquel O'Dunneen</td>\n",
       "      <td>Netherlands</td>\n",
       "      <td>Deluxe</td>\n",
       "      <td>Mar</td>\n",
       "      <td>Stunning girl S.A</td>\n",
       "      <td>Girls</td>\n",
       "    </tr>\n",
       "    <tr>\n",
       "      <th>1918</th>\n",
       "      <td>1919</td>\n",
       "      <td>Topcare Daily Facial</td>\n",
       "      <td>Breeze way</td>\n",
       "      <td>46.16</td>\n",
       "      <td>1611</td>\n",
       "      <td>Theresa Faraday</td>\n",
       "      <td>Netherlands</td>\n",
       "      <td>Normal</td>\n",
       "      <td>Feb</td>\n",
       "      <td>Female Brands S.A</td>\n",
       "      <td>Young Women</td>\n",
       "    </tr>\n",
       "  </tbody>\n",
       "</table>\n",
       "</div>"
      ],
      "text/plain": [
       "        id               Product Manufacturer  value_price   qtd  \\\n",
       "218    219         Mango Lipbalm  Nina Beauty       152.90  1611   \n",
       "1918  1919  Topcare Daily Facial   Breeze way        46.16  1611   \n",
       "\n",
       "          sales_person      country Packaging Month              Buyer  \\\n",
       "218   Raquel O'Dunneen  Netherlands    Deluxe   Mar  Stunning girl S.A   \n",
       "1918   Theresa Faraday  Netherlands    Normal   Feb  Female Brands S.A   \n",
       "\n",
       "     Consumer_target  \n",
       "218            Girls  \n",
       "1918     Young Women  "
      ]
     },
     "execution_count": 38,
     "metadata": {},
     "output_type": "execute_result"
    }
   ],
   "source": [
    "data.query('qtd == 1611.000000')"
   ]
  },
  {
   "cell_type": "markdown",
   "id": "edd06f27",
   "metadata": {},
   "source": [
    "We can confirm the first assumption, because we can see a more valuable product being selled for a lower price at the same country"
   ]
  },
  {
   "cell_type": "code",
   "execution_count": 39,
   "id": "01c88ee9",
   "metadata": {},
   "outputs": [
    {
     "data": {
      "text/html": [
       "<div>\n",
       "<style scoped>\n",
       "    .dataframe tbody tr th:only-of-type {\n",
       "        vertical-align: middle;\n",
       "    }\n",
       "\n",
       "    .dataframe tbody tr th {\n",
       "        vertical-align: top;\n",
       "    }\n",
       "\n",
       "    .dataframe thead th {\n",
       "        text-align: right;\n",
       "    }\n",
       "</style>\n",
       "<table border=\"1\" class=\"dataframe\">\n",
       "  <thead>\n",
       "    <tr style=\"text-align: right;\">\n",
       "      <th></th>\n",
       "      <th>id</th>\n",
       "      <th>Product</th>\n",
       "      <th>Manufacturer</th>\n",
       "      <th>value_price</th>\n",
       "      <th>qtd</th>\n",
       "      <th>sales_person</th>\n",
       "      <th>country</th>\n",
       "      <th>Packaging</th>\n",
       "      <th>Month</th>\n",
       "      <th>Buyer</th>\n",
       "      <th>Consumer_target</th>\n",
       "    </tr>\n",
       "  </thead>\n",
       "  <tbody>\n",
       "    <tr>\n",
       "      <th>1397</th>\n",
       "      <td>1398</td>\n",
       "      <td>Suntannnig Bronzer FPS8</td>\n",
       "      <td>Breeze way</td>\n",
       "      <td>20.4</td>\n",
       "      <td>72</td>\n",
       "      <td>Theresa Faraday</td>\n",
       "      <td>United Kingdom</td>\n",
       "      <td>Deluxe</td>\n",
       "      <td>Feb</td>\n",
       "      <td>Stunning girl S.A</td>\n",
       "      <td>Young Women</td>\n",
       "    </tr>\n",
       "  </tbody>\n",
       "</table>\n",
       "</div>"
      ],
      "text/plain": [
       "        id                  Product Manufacturer  value_price  qtd  \\\n",
       "1397  1398  Suntannnig Bronzer FPS8   Breeze way         20.4   72   \n",
       "\n",
       "         sales_person         country Packaging Month              Buyer  \\\n",
       "1397  Theresa Faraday  United Kingdom    Deluxe   Feb  Stunning girl S.A   \n",
       "\n",
       "     Consumer_target  \n",
       "1397     Young Women  "
      ]
     },
     "execution_count": 39,
     "metadata": {},
     "output_type": "execute_result"
    }
   ],
   "source": [
    "data.query('qtd == 72.000000')"
   ]
  },
  {
   "cell_type": "markdown",
   "id": "89e53c0f",
   "metadata": {},
   "source": [
    "### Data Visualization"
   ]
  },
  {
   "cell_type": "code",
   "execution_count": 40,
   "id": "5975f7f7",
   "metadata": {},
   "outputs": [
    {
     "data": {
      "image/png": "[encoded data removed]",
      "text/plain": [
       "<Figure size 432x288 with 1 Axes>"
      ]
     },
     "metadata": {
      "needs_background": "light"
     },
     "output_type": "display_data"
    }
   ],
   "source": [
    "sns.distplot(data['value_price']);"
   ]
  },
  {
   "cell_type": "code",
   "execution_count": 41,
   "id": "d2121fba",
   "metadata": {},
   "outputs": [
    {
     "name": "stdout",
     "output_type": "stream",
     "text": [
      "distortion: 0.527135\n",
      "kurtosis: 0.153547\n"
     ]
    }
   ],
   "source": [
    "print('distortion: %f' % data['value_price'].skew())\n",
    "print('kurtosis: %f' % data['value_price'].kurt())"
   ]
  },
  {
   "cell_type": "markdown",
   "id": "9dcc507d",
   "metadata": {},
   "source": [
    "Since the kurtosis is less than 3, it seems that the wage data do not represent a normal distribution."
   ]
  },
  {
   "cell_type": "code",
   "execution_count": 42,
   "id": "89d515df",
   "metadata": {},
   "outputs": [
    {
     "data": {
      "image/png": "[encoded data removed]",
      "text/plain": [
       "<Figure size 576x432 with 1 Axes>"
      ]
     },
     "metadata": {
      "needs_background": "light"
     },
     "output_type": "display_data"
    }
   ],
   "source": [
    "var = 'Buyer'\n",
    "dt = pd.concat([data['qtd'], data[var]], axis=1)\n",
    "f, ax = plt.subplots(figsize=(8,6))\n",
    "fig = sns.boxplot(x=var, y='qtd', data = dt)\n",
    "fig.axis(ymin=0, ymax=2000.000000 );"
   ]
  },
  {
   "cell_type": "code",
   "execution_count": 43,
   "id": "4a1dc3cf",
   "metadata": {},
   "outputs": [
    {
     "data": {
      "image/png": "[encoded data removed]",
      "text/plain": [
       "<Figure size 1440x432 with 1 Axes>"
      ]
     },
     "metadata": {
      "needs_background": "light"
     },
     "output_type": "display_data"
    }
   ],
   "source": [
    "var = 'Product'\n",
    "dt = pd.concat([data['value_price'], data[var]], axis=1)\n",
    "f, ax = plt.subplots(figsize=(20,6))\n",
    "fig = sns.boxplot(x=var, y='value_price', data = dt)\n",
    "fig.axis(ymin=0, ymax=200.000000 );"
   ]
  },
  {
   "cell_type": "markdown",
   "id": "50fe5e8a",
   "metadata": {},
   "source": [
    "Now let's analyze the average price of the products in the sales proposals made by Très Belle"
   ]
  },
  {
   "cell_type": "code",
   "execution_count": 45,
   "id": "535e817f",
   "metadata": {
    "scrolled": true
   },
   "outputs": [
    {
     "data": {
      "image/png": "[encoded data removed]",
      "text/plain": [
       "<Figure size 1440x432 with 1 Axes>"
      ]
     },
     "metadata": {
      "needs_background": "light"
     },
     "output_type": "display_data"
    }
   ],
   "source": [
    "var = 'country'\n",
    "dt = pd.concat([data['value_price'], data[var]], axis=1)\n",
    "f, ax = plt.subplots(figsize=(20,6))\n",
    "fig = sns.boxplot(x=var, y='value_price', data = dt)\n",
    "fig.axis(ymin=0, ymax=200.000000 );"
   ]
  },
  {
   "cell_type": "markdown",
   "id": "1beee624",
   "metadata": {},
   "source": [
    "We notice that all products have similar medians, indicating a certain price pattern, even if they are products that enter the market in different categories, such as, for example, the Anti Aging BBCream which is an anti-aging product has an average unit value similar to the Miraculous LipTint which has only aesthetic purposes"
   ]
  },
  {
   "cell_type": "markdown",
   "id": "0373831c",
   "metadata": {},
   "source": [
    "Now let's look at the sales quantity by each country and each store:"
   ]
  },
  {
   "cell_type": "code",
   "execution_count": 51,
   "id": "c19a7bd7",
   "metadata": {},
   "outputs": [
    {
     "data": {
      "image/png": "[encoded data removed]",
      "text/plain": [
       "<Figure size 432x288 with 1 Axes>"
      ]
     },
     "metadata": {
      "needs_background": "light"
     },
     "output_type": "display_data"
    }
   ],
   "source": [
    "data.groupby('country')['value_price'].count().plot.bar();"
   ]
  },
  {
   "cell_type": "code",
   "execution_count": 52,
   "id": "e77369a3",
   "metadata": {},
   "outputs": [
    {
     "data": {
      "image/png": "[encoded data removed]",
      "text/plain": [
       "<Figure size 432x288 with 1 Axes>"
      ]
     },
     "metadata": {
      "needs_background": "light"
     },
     "output_type": "display_data"
    }
   ],
   "source": [
    "data.groupby('Buyer')['value_price'].count().plot.bar();"
   ]
  },
  {
   "cell_type": "markdown",
   "id": "546848d2",
   "metadata": {},
   "source": [
    "When we analyse Très Belle sales team performance, we can observe that Theresa Faraday has the best performance during the analyzed period and thus we can consider integrating her into our sales team"
   ]
  },
  {
   "cell_type": "code",
   "execution_count": 53,
   "id": "93d77f55",
   "metadata": {
    "scrolled": true
   },
   "outputs": [
    {
     "data": {
      "image/png": "[encoded data removed]",
      "text/plain": [
       "<Figure size 432x288 with 1 Axes>"
      ]
     },
     "metadata": {
      "needs_background": "light"
     },
     "output_type": "display_data"
    }
   ],
   "source": [
    "data.groupby('sales_person')['value_price'].sum().plot.bar();"
   ]
  },
  {
   "cell_type": "markdown",
   "id": "925c13ee",
   "metadata": {},
   "source": [
    "Another important aspect of our analysis would be to verify which packaging brings more gains, since we once verified that products with normal packaging had more sales in quantity"
   ]
  },
  {
   "cell_type": "code",
   "execution_count": 6,
   "id": "cfc3149b",
   "metadata": {},
   "outputs": [
    {
     "data": {
      "image/png": "[encoded data removed]",
      "text/plain": [
       "<Figure size 432x288 with 1 Axes>"
      ]
     },
     "metadata": {
      "needs_background": "light"
     },
     "output_type": "display_data"
    }
   ],
   "source": [
    "data.groupby('Packaging')['value_price'].sum().plot.bar();"
   ]
  },
  {
   "cell_type": "code",
   "execution_count": 5,
   "id": "262077a4",
   "metadata": {},
   "outputs": [
    {
     "data": {
      "image/png": "[encoded data removed]",
      "text/plain": [
       "<Figure size 1440x432 with 1 Axes>"
      ]
     },
     "metadata": {
      "needs_background": "light"
     },
     "output_type": "display_data"
    }
   ],
   "source": [
    "var_2 = 'Packaging'\n",
    "dt = pd.concat([data['value_price'], data[var_2]], axis=1)\n",
    "f, ax = plt.subplots(figsize=(20,6))\n",
    "fig = sns.boxplot(x=var, y='value_price', data = dt)\n",
    "fig.axis(ymin=0, ymax=200.000000 );"
   ]
  },
  {
   "cell_type": "markdown",
   "id": "ebb77d90",
   "metadata": {},
   "source": [
    "An interesting point when analyzing the packaging issue is the small difference when comparing the median of each type, generating a future opportunity to encourage the sale of products with deluxe packaging, to achieve a higher profit margin. \n",
    "\n",
    "Last but not least, let's verify which target audience we have the most gains:"
   ]
  },
  {
   "cell_type": "code",
   "execution_count": 7,
   "id": "d967f96d",
   "metadata": {},
   "outputs": [
    {
     "data": {
      "image/png": "[encoded data removed]",
      "text/plain": [
       "<Figure size 432x288 with 1 Axes>"
      ]
     },
     "metadata": {
      "needs_background": "light"
     },
     "output_type": "display_data"
    }
   ],
   "source": [
    "data.groupby('Consumer_target')['value_price'].sum().plot.bar();"
   ]
  },
  {
   "cell_type": "code",
   "execution_count": 9,
   "id": "a298d66f",
   "metadata": {},
   "outputs": [
    {
     "data": {
      "image/png": "[encoded data removed]",
      "text/plain": [
       "<Figure size 432x288 with 1 Axes>"
      ]
     },
     "metadata": {
      "needs_background": "light"
     },
     "output_type": "display_data"
    }
   ],
   "source": [
    "data.groupby('Consumer_target')['qtd'].sum().plot.bar();"
   ]
  },
  {
   "cell_type": "markdown",
   "id": "d7ff68ef",
   "metadata": {},
   "source": [
    "As expected, the amount of products sold generally follows the value obtained in each target audience"
   ]
  },
  {
   "cell_type": "markdown",
   "id": "cbbe492d",
   "metadata": {},
   "source": [
    "### Conclusions:\n",
    "\n",
    "The company had pricing problems with its products;\n",
    "\n",
    "The sales volumes per salesperson indicate a certain lack of training, since one of the salespeople had a much higher performance than the others;\n",
    "\n",
    "Need to create sales strategies per country;\n",
    "\n",
    "Initially encourage, through discounts for example, a greater sale of products for girls;\n",
    "\n",
    "As data don't follow a normal distribution, we'll need to make more in-depth analyses in order to draw a commercial strategy to leverage sales. Another important factor will be to analyze the company's stock, to understand certain sales figures, especially the outliers found in the database.\n",
    "\n"
   ]
  }
 ],
 "metadata": {
  "kernelspec": {
   "display_name": "Python 3 (ipykernel)",
   "language": "python",
   "name": "python3"
  },
  "language_info": {
   "codemirror_mode": {
    "name": "ipython",
    "version": 3
   },
   "file_extension": ".py",
   "mimetype": "text/x-python",
   "name": "python",
   "nbconvert_exporter": "python",
   "pygments_lexer": "ipython3",
   "version": "3.9.7"
  }
 },
 "nbformat": 4,
 "nbformat_minor": 5
}
