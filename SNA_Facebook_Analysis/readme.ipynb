{
 "cells": [
  {
   "cell_type": "markdown",
   "id": "beda009d",
   "metadata": {},
   "source": [
    "## Project Description:\n",
    "\n",
    "Analyze a list of facebook \"friends\" and through the SNA concepts available in the networkx package, we evaluate the proximities of profiles to each other, checking if there are nuclei of friends within this list, and if there are people with profiles with a higher number of connections to each other, influencing the organization and proximity of profiles within the network. \n",
    "Another interesting point of the analysis is to verify if there is any profile that is the main responsible for the configuration of the existing nodes and edges."
   ]
  },
  {
   "cell_type": "markdown",
   "id": "f51114c1",
   "metadata": {},
   "source": [
    "## Motivation:\n",
    "\n",
    "This project aims to learn in a practical way the concepts of social network analysis, in particular to understand what are nodes, edges, concepts of centrality and betweeness with real data."
   ]
  },
  {
   "cell_type": "markdown",
   "id": "f8203234",
   "metadata": {},
   "source": [
    "## Resources Used:\n",
    "\n",
    "We use the python language. The packages used were pandas, networkx and matplotlib to help us build graphics."
   ]
  },
  {
   "cell_type": "markdown",
   "id": "093db7cd",
   "metadata": {},
   "source": [
    "## References:\n",
    "\n",
    "Jna Kirenz blog: "
   ]
  }
 ],
 "metadata": {
  "kernelspec": {
   "display_name": "Python 3 (ipykernel)",
   "language": "python",
   "name": "python3"
  },
  "language_info": {
   "codemirror_mode": {
    "name": "ipython",
    "version": 3
   },
   "file_extension": ".py",
   "mimetype": "text/x-python",
   "name": "python",
   "nbconvert_exporter": "python",
   "pygments_lexer": "ipython3",
   "version": "3.9.7"
  }
 },
 "nbformat": 4,
 "nbformat_minor": 5
}
